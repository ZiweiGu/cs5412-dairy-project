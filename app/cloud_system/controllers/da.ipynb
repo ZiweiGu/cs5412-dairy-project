{
 "cells": [
  {
   "cell_type": "code",
   "execution_count": 315,
   "id": "reverse-jumping",
   "metadata": {},
   "outputs": [],
   "source": [
    "import pandas as pd\n",
    "import numpy as np\n",
    "from sklearn.model_selection import train_test_split\n",
    "from sklearn.ensemble import RandomForestClassifier, AdaBoostClassifier\n",
    "from sklearn.tree import DecisionTreeClassifier\n",
    "from sklearn.preprocessing import OrdinalEncoder\n",
    "from sklearn.metrics import accuracy_score\n",
    "from sklearn.neural_network import MLPClassifier"
   ]
  },
  {
   "cell_type": "code",
   "execution_count": 296,
   "id": "breeding-blogger",
   "metadata": {},
   "outputs": [],
   "source": [
    "data = pd.read_csv('../../../data_analysis/heatAlerts.csv')"
   ]
  },
  {
   "cell_type": "code",
   "execution_count": 297,
   "id": "confirmed-ordering",
   "metadata": {},
   "outputs": [],
   "source": [
    "df = data[data['outcome'] != \".\"]"
   ]
  },
  {
   "cell_type": "code",
   "execution_count": 298,
   "id": "continental-maine",
   "metadata": {},
   "outputs": [],
   "source": [
    "for i in range(1,10):\n",
    "    df = df.drop(['Unnamed: 4' + str(i)], axis = 1)"
   ]
  },
  {
   "cell_type": "code",
   "execution_count": 299,
   "id": "hearing-learning",
   "metadata": {},
   "outputs": [],
   "source": [
    "def trim_all_columns(df):\n",
    "    \"\"\"\n",
    "    Trim whitespace from ends of each value across all series in dataframe\n",
    "    \"\"\"\n",
    "    trim_strings = lambda x: x.strip() if isinstance(x, str) else x\n",
    "    return df.applymap(trim_strings)\n",
    "df = trim_all_columns(df)"
   ]
  },
  {
   "cell_type": "code",
   "execution_count": 300,
   "id": "hungarian-architect",
   "metadata": {},
   "outputs": [],
   "source": [
    "df = df[df['SB_HTENDS'] != '.']"
   ]
  },
  {
   "cell_type": "code",
   "execution_count": 301,
   "id": "alleged-lesbian",
   "metadata": {},
   "outputs": [],
   "source": [
    "df.dropna(subset = ['ID','DIMatheat', 'SB_PROB', 'Heat Probability Category', 'DC_ACLEV', 'DC_ACTIM'], inplace = True)"
   ]
  },
  {
   "cell_type": "code",
   "execution_count": 302,
   "id": "sitting-cabinet",
   "metadata": {},
   "outputs": [],
   "source": [
    "df2 = pd.DataFrame(columns = df.columns)\n",
    "for index, row in df.iterrows():\n",
    "    try:\n",
    "        i = int(row['DC_ACLEV'])\n",
    "#         print(row)\n",
    "        df2.loc[len(df2.index)] = row\n",
    "    except: \n",
    "        continue"
   ]
  },
  {
   "cell_type": "code",
   "execution_count": 303,
   "id": "sound-armenia",
   "metadata": {},
   "outputs": [],
   "source": [
    "df = df2"
   ]
  },
  {
   "cell_type": "markdown",
   "id": "determined-square",
   "metadata": {},
   "source": [
    "# ML"
   ]
  },
  {
   "cell_type": "code",
   "execution_count": 304,
   "id": "abroad-version",
   "metadata": {},
   "outputs": [
    {
     "data": {
      "text/plain": [
       "0    O\n",
       "1    P\n",
       "2    O\n",
       "3    O\n",
       "4    P\n",
       "Name: outcome, dtype: object"
      ]
     },
     "execution_count": 304,
     "metadata": {},
     "output_type": "execute_result"
    }
   ],
   "source": [
    "data_with_outcome = df\n",
    "df['outcome'].head()"
   ]
  },
  {
   "cell_type": "code",
   "execution_count": 305,
   "id": "neither-attempt",
   "metadata": {},
   "outputs": [
    {
     "name": "stderr",
     "output_type": "stream",
     "text": [
      "/Library/Frameworks/Python.framework/Versions/3.7/lib/python3.7/site-packages/ipykernel_launcher.py:4: SettingWithCopyWarning: \n",
      "A value is trying to be set on a copy of a slice from a DataFrame.\n",
      "Try using .loc[row_indexer,col_indexer] = value instead\n",
      "\n",
      "See the caveats in the documentation: https://pandas.pydata.org/pandas-docs/stable/user_guide/indexing.html#returning-a-view-versus-a-copy\n",
      "  after removing the cwd from sys.path.\n",
      "/Library/Frameworks/Python.framework/Versions/3.7/lib/python3.7/site-packages/ipykernel_launcher.py:5: SettingWithCopyWarning: \n",
      "A value is trying to be set on a copy of a slice from a DataFrame.\n",
      "Try using .loc[row_indexer,col_indexer] = value instead\n",
      "\n",
      "See the caveats in the documentation: https://pandas.pydata.org/pandas-docs/stable/user_guide/indexing.html#returning-a-view-versus-a-copy\n",
      "  \"\"\"\n",
      "/Library/Frameworks/Python.framework/Versions/3.7/lib/python3.7/site-packages/ipykernel_launcher.py:6: SettingWithCopyWarning: \n",
      "A value is trying to be set on a copy of a slice from a DataFrame\n",
      "\n",
      "See the caveats in the documentation: https://pandas.pydata.org/pandas-docs/stable/user_guide/indexing.html#returning-a-view-versus-a-copy\n",
      "  \n"
     ]
    }
   ],
   "source": [
    "data_with_outcome = data_with_outcome[(data_with_outcome['outcome']==\"P\") | (data_with_outcome['outcome']==\"O\") | (data_with_outcome['outcome']==\"A\")]\n",
    "new_sb_htstarts = pd.to_timedelta(data_with_outcome['SB_HTSTARTS'])\n",
    "new_sb_htends = pd.to_timedelta(data_with_outcome['SB_HTENDS'])  \n",
    "data_with_outcome['time_elapsed'] = new_sb_htends - new_sb_htstarts\n",
    "data_with_outcome['sc_elapsed'] = data_with_outcome.time_elapsed.dt.total_seconds()\n",
    "data_with_outcome.dropna(subset = ['sc_elapsed'], inplace = True)"
   ]
  },
  {
   "cell_type": "code",
   "execution_count": 306,
   "id": "streaming-deviation",
   "metadata": {},
   "outputs": [
    {
     "data": {
      "text/plain": [
       "0    O\n",
       "1    P\n",
       "2    O\n",
       "3    O\n",
       "4    P\n",
       "Name: outcome, dtype: object"
      ]
     },
     "execution_count": 306,
     "metadata": {},
     "output_type": "execute_result"
    }
   ],
   "source": [
    "Y = data_with_outcome['outcome']\n",
    "Y.head()"
   ]
  },
  {
   "cell_type": "code",
   "execution_count": 307,
   "id": "registered-mentor",
   "metadata": {},
   "outputs": [],
   "source": [
    "X = data_with_outcome.drop(columns=['outcome'])\n",
    "X['DC_ACLEV'] = X['DC_ACLEV'].astype(int)\n",
    "X['DC_ACTIM'] = X['DC_ACTIM'].astype(int)"
   ]
  },
  {
   "cell_type": "code",
   "execution_count": 308,
   "id": "vital-destiny",
   "metadata": {},
   "outputs": [
    {
     "name": "stderr",
     "output_type": "stream",
     "text": [
      "/Library/Frameworks/Python.framework/Versions/3.7/lib/python3.7/site-packages/ipykernel_launcher.py:1: SettingWithCopyWarning: \n",
      "A value is trying to be set on a copy of a slice from a DataFrame\n",
      "\n",
      "See the caveats in the documentation: https://pandas.pydata.org/pandas-docs/stable/user_guide/indexing.html#returning-a-view-versus-a-copy\n",
      "  \"\"\"Entry point for launching an IPython kernel.\n",
      "/Library/Frameworks/Python.framework/Versions/3.7/lib/python3.7/site-packages/pandas/core/series.py:992: SettingWithCopyWarning: \n",
      "A value is trying to be set on a copy of a slice from a DataFrame\n",
      "\n",
      "See the caveats in the documentation: https://pandas.pydata.org/pandas-docs/stable/user_guide/indexing.html#returning-a-view-versus-a-copy\n",
      "  self._where(~key, value, inplace=True)\n",
      "/Library/Frameworks/Python.framework/Versions/3.7/lib/python3.7/site-packages/ipykernel_launcher.py:2: SettingWithCopyWarning: \n",
      "A value is trying to be set on a copy of a slice from a DataFrame\n",
      "\n",
      "See the caveats in the documentation: https://pandas.pydata.org/pandas-docs/stable/user_guide/indexing.html#returning-a-view-versus-a-copy\n",
      "  \n",
      "/Library/Frameworks/Python.framework/Versions/3.7/lib/python3.7/site-packages/ipykernel_launcher.py:3: SettingWithCopyWarning: \n",
      "A value is trying to be set on a copy of a slice from a DataFrame\n",
      "\n",
      "See the caveats in the documentation: https://pandas.pydata.org/pandas-docs/stable/user_guide/indexing.html#returning-a-view-versus-a-copy\n",
      "  This is separate from the ipykernel package so we can avoid doing imports until\n"
     ]
    }
   ],
   "source": [
    "Y[Y==\"P\"] = 1\n",
    "Y[Y==\"A\"] = 1  # aborted is also pregnant\n",
    "Y[Y==\"O\"] = 0\n",
    "Y = Y.astype(int)"
   ]
  },
  {
   "cell_type": "code",
   "execution_count": 309,
   "id": "rubber-nashville",
   "metadata": {},
   "outputs": [],
   "source": [
    "X = X[['DIMatheat', 'SB_PROB', 'Heat Probability Category', 'DC_ACLEV', 'DC_ACTIM', 'sc_elapsed']]"
   ]
  },
  {
   "cell_type": "code",
   "execution_count": 310,
   "id": "exterior-generation",
   "metadata": {},
   "outputs": [],
   "source": [
    "x_train, x_test, y_train, y_test = train_test_split(X.to_numpy(), Y.to_numpy(), test_size=0.33, random_state=42)"
   ]
  },
  {
   "cell_type": "code",
   "execution_count": 311,
   "id": "tight-governor",
   "metadata": {},
   "outputs": [
    {
     "data": {
      "text/plain": [
       "array([[ 1.150e+02,  1.000e+02,  5.000e+00,  1.000e+02,  1.700e+01,\n",
       "        -3.240e+04],\n",
       "       [ 5.400e+01,  9.800e+01,  4.000e+00,  9.800e+01,  1.300e+01,\n",
       "        -3.606e+04],\n",
       "       [ 1.560e+02,  9.600e+01,  4.000e+00,  1.000e+02,  2.000e+00,\n",
       "         5.766e+04],\n",
       "       ...,\n",
       "       [ 1.040e+02,  9.200e+01,  4.000e+00,  9.200e+01,  2.000e+01,\n",
       "        -4.320e+04],\n",
       "       [ 7.600e+01,  7.800e+01,  3.000e+00,  7.600e+01,  2.200e+01,\n",
       "        -4.320e+04],\n",
       "       [ 7.900e+01,  1.000e+02,  5.000e+00,  1.000e+02,  1.600e+01,\n",
       "        -2.514e+04]])"
      ]
     },
     "execution_count": 311,
     "metadata": {},
     "output_type": "execute_result"
    }
   ],
   "source": [
    "x_train"
   ]
  },
  {
   "cell_type": "code",
   "execution_count": 312,
   "id": "separate-tournament",
   "metadata": {},
   "outputs": [
    {
     "data": {
      "text/plain": [
       "AdaBoostClassifier(base_estimator=DecisionTreeClassifier(max_depth=2),\n",
       "                   n_estimators=20, random_state=0)"
      ]
     },
     "execution_count": 312,
     "metadata": {},
     "output_type": "execute_result"
    }
   ],
   "source": [
    "clf = AdaBoostClassifier(base_estimator=DecisionTreeClassifier(max_depth=2), n_estimators=20, random_state=0)\n",
    "clf.fit(x_train, y_train)"
   ]
  },
  {
   "cell_type": "code",
   "execution_count": 313,
   "id": "dependent-scotland",
   "metadata": {},
   "outputs": [
    {
     "name": "stdout",
     "output_type": "stream",
     "text": [
      "Training accuracy: 0.8424908424908425\n",
      "Testing accuracy: 0.5259259259259259\n"
     ]
    }
   ],
   "source": [
    "pred_train = clf.predict(x_train)\n",
    "pred_test = clf.predict(x_test)\n",
    "print(f\"Training accuracy: {accuracy_score(y_train, pred_train)}\")\n",
    "print(f\"Testing accuracy: {accuracy_score(y_test, pred_test)}\")"
   ]
  },
  {
   "cell_type": "markdown",
   "id": "welcome-cannon",
   "metadata": {},
   "source": [
    "# neural network"
   ]
  },
  {
   "cell_type": "code",
   "execution_count": 316,
   "id": "accepted-polls",
   "metadata": {},
   "outputs": [],
   "source": [
    "clf = MLPClassifier(solver='lbfgs', alpha=1e-5, hidden_layer_sizes=(5, 2), random_state=1)"
   ]
  },
  {
   "cell_type": "code",
   "execution_count": 317,
   "id": "upset-bolivia",
   "metadata": {},
   "outputs": [
    {
     "name": "stderr",
     "output_type": "stream",
     "text": [
      "/Library/Frameworks/Python.framework/Versions/3.7/lib/python3.7/site-packages/sklearn/neural_network/_multilayer_perceptron.py:500: ConvergenceWarning: lbfgs failed to converge (status=2):\n",
      "ABNORMAL_TERMINATION_IN_LNSRCH.\n",
      "\n",
      "Increase the number of iterations (max_iter) or scale the data as shown in:\n",
      "    https://scikit-learn.org/stable/modules/preprocessing.html\n",
      "  self.n_iter_ = _check_optimize_result(\"lbfgs\", opt_res, self.max_iter)\n"
     ]
    },
    {
     "data": {
      "text/plain": [
       "MLPClassifier(alpha=1e-05, hidden_layer_sizes=(5, 2), random_state=1,\n",
       "              solver='lbfgs')"
      ]
     },
     "execution_count": 317,
     "metadata": {},
     "output_type": "execute_result"
    }
   ],
   "source": [
    "clf.fit(X, Y)"
   ]
  },
  {
   "cell_type": "code",
   "execution_count": 318,
   "id": "large-night",
   "metadata": {},
   "outputs": [
    {
     "name": "stdout",
     "output_type": "stream",
     "text": [
      "Training accuracy: 0.5714285714285714\n",
      "Testing accuracy: 0.5703703703703704\n"
     ]
    }
   ],
   "source": [
    "pred_train = clf.predict(x_train)\n",
    "pred_test = clf.predict(x_test)\n",
    "print(f\"Training accuracy: {accuracy_score(y_train, pred_train)}\")\n",
    "print(f\"Testing accuracy: {accuracy_score(y_test, pred_test)}\")"
   ]
  },
  {
   "cell_type": "code",
   "execution_count": null,
   "id": "advanced-beijing",
   "metadata": {},
   "outputs": [],
   "source": []
  }
 ],
 "metadata": {
  "kernelspec": {
   "display_name": "Python 3",
   "language": "python",
   "name": "python3"
  },
  "language_info": {
   "codemirror_mode": {
    "name": "ipython",
    "version": 3
   },
   "file_extension": ".py",
   "mimetype": "text/x-python",
   "name": "python",
   "nbconvert_exporter": "python",
   "pygments_lexer": "ipython3",
   "version": "3.7.6"
  }
 },
 "nbformat": 4,
 "nbformat_minor": 5
}
