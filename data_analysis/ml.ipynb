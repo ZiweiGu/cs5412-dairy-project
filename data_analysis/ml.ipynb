{
 "cells": [
  {
   "cell_type": "markdown",
   "id": "unavailable-transaction",
   "metadata": {},
   "source": [
    "# Data Preparation"
   ]
  },
  {
   "cell_type": "code",
   "execution_count": 148,
   "id": "valuable-transition",
   "metadata": {},
   "outputs": [],
   "source": [
    "import pandas as pd \n",
    "import os\n",
    "from sklearn.datasets import load_breast_cancer\n",
    "import pandas as pd\n",
    "from sklearn.model_selection import KFold \n",
    "from sklearn.linear_model import LogisticRegression\n",
    "from sklearn.metrics import accuracy_score\n",
    "from sklearn.model_selection import cross_val_score\n",
    "\n",
    "from sklearn.svm import SVC  \n",
    "import random"
   ]
  },
  {
   "cell_type": "code",
   "execution_count": 47,
   "id": "congressional-concord",
   "metadata": {},
   "outputs": [
    {
     "data": {
      "text/plain": [
       "['heatAlertsTrack.xlsx']"
      ]
     },
     "execution_count": 47,
     "metadata": {},
     "output_type": "execute_result"
    }
   ],
   "source": [
    "path = os.getcwd()\n",
    "files = os.listdir(path)\n",
    "df = pd.DataFrame()\n",
    "files = [f for f in files if f[-4:] == 'xlsx']\n",
    "files"
   ]
  },
  {
   "cell_type": "code",
   "execution_count": 48,
   "id": "sophisticated-harbor",
   "metadata": {},
   "outputs": [],
   "source": [
    "for f in files:\n",
    "    data = pd.read_excel(f, 'SB_Heatalerts', engine='openpyxl')\n",
    "    df = df.append(data)"
   ]
  },
  {
   "cell_type": "code",
   "execution_count": 49,
   "id": "correct-cornwall",
   "metadata": {},
   "outputs": [],
   "source": [
    "for i in range(1,10):\n",
    "    df = df.drop(['Unnamed: 4' + str(i)], axis = 1)"
   ]
  },
  {
   "cell_type": "code",
   "execution_count": 69,
   "id": "victorian-defensive",
   "metadata": {},
   "outputs": [
    {
     "data": {
      "text/html": [
       "<div>\n",
       "<style scoped>\n",
       "    .dataframe tbody tr th:only-of-type {\n",
       "        vertical-align: middle;\n",
       "    }\n",
       "\n",
       "    .dataframe tbody tr th {\n",
       "        vertical-align: top;\n",
       "    }\n",
       "\n",
       "    .dataframe thead th {\n",
       "        text-align: right;\n",
       "    }\n",
       "</style>\n",
       "<table border=\"1\" class=\"dataframe\">\n",
       "  <thead>\n",
       "    <tr style=\"text-align: right;\">\n",
       "      <th></th>\n",
       "      <th>ID</th>\n",
       "      <th>FDAT</th>\n",
       "      <th>Calving Season Code</th>\n",
       "      <th>DIMatheat</th>\n",
       "      <th>DIM at Heat Code</th>\n",
       "      <th>Lact</th>\n",
       "      <th>Parity</th>\n",
       "      <th>heat_DATE</th>\n",
       "      <th>Heat Date Code</th>\n",
       "      <th>SB_FHIACBAR</th>\n",
       "      <th>...</th>\n",
       "      <th>CDAT</th>\n",
       "      <th>DCC_IF_P</th>\n",
       "      <th>PDCC</th>\n",
       "      <th>DDRY</th>\n",
       "      <th>EASE</th>\n",
       "      <th>Ease Code</th>\n",
       "      <th>Calf Sex and Survival</th>\n",
       "      <th>TWIN</th>\n",
       "      <th>DOA</th>\n",
       "      <th>OBSERV.</th>\n",
       "    </tr>\n",
       "  </thead>\n",
       "  <tbody>\n",
       "    <tr>\n",
       "      <th>0</th>\n",
       "      <td>5583</td>\n",
       "      <td>2020-04-12</td>\n",
       "      <td>0</td>\n",
       "      <td>41</td>\n",
       "      <td>1.0</td>\n",
       "      <td>2</td>\n",
       "      <td>Multiparous</td>\n",
       "      <td>2020-05-23</td>\n",
       "      <td>0</td>\n",
       "      <td>20:00:00</td>\n",
       "      <td>...</td>\n",
       "      <td>.</td>\n",
       "      <td>.</td>\n",
       "      <td>277</td>\n",
       "      <td>48</td>\n",
       "      <td>1</td>\n",
       "      <td>No problem</td>\n",
       "      <td>MA</td>\n",
       "      <td>S</td>\n",
       "      <td>0</td>\n",
       "      <td>FRESH</td>\n",
       "    </tr>\n",
       "    <tr>\n",
       "      <th>1</th>\n",
       "      <td>5476</td>\n",
       "      <td>2020-04-23</td>\n",
       "      <td>0</td>\n",
       "      <td>113</td>\n",
       "      <td>3.0</td>\n",
       "      <td>2</td>\n",
       "      <td>Multiparous</td>\n",
       "      <td>2020-08-14</td>\n",
       "      <td>1</td>\n",
       "      <td>NO PROGRESSIVE HIGH ACTIVITY BARS</td>\n",
       "      <td>...</td>\n",
       "      <td>.</td>\n",
       "      <td>.</td>\n",
       "      <td>277</td>\n",
       "      <td>52</td>\n",
       "      <td>1</td>\n",
       "      <td>No problem</td>\n",
       "      <td>MA</td>\n",
       "      <td>T</td>\n",
       "      <td>0</td>\n",
       "      <td>.</td>\n",
       "    </tr>\n",
       "    <tr>\n",
       "      <th>2</th>\n",
       "      <td>5643</td>\n",
       "      <td>2020-07-10</td>\n",
       "      <td>1</td>\n",
       "      <td>37</td>\n",
       "      <td>1.0</td>\n",
       "      <td>2</td>\n",
       "      <td>Multiparous</td>\n",
       "      <td>2020-08-16</td>\n",
       "      <td>1</td>\n",
       "      <td>NO PROGRESSIVE HIGH ACTIVITY BARS</td>\n",
       "      <td>...</td>\n",
       "      <td>.</td>\n",
       "      <td>.</td>\n",
       "      <td>276</td>\n",
       "      <td>61</td>\n",
       "      <td>1</td>\n",
       "      <td>No problem</td>\n",
       "      <td>MA</td>\n",
       "      <td>S</td>\n",
       "      <td>0</td>\n",
       "      <td>FRESH</td>\n",
       "    </tr>\n",
       "    <tr>\n",
       "      <th>3</th>\n",
       "      <td>6415</td>\n",
       "      <td>2020-04-10</td>\n",
       "      <td>0</td>\n",
       "      <td>78</td>\n",
       "      <td>2.0</td>\n",
       "      <td>1</td>\n",
       "      <td>Primiparous</td>\n",
       "      <td>2020-06-27</td>\n",
       "      <td>1</td>\n",
       "      <td>20:00:00</td>\n",
       "      <td>...</td>\n",
       "      <td>2020-06-27 00:00:00</td>\n",
       "      <td>0</td>\n",
       "      <td>276</td>\n",
       "      <td>0</td>\n",
       "      <td>1</td>\n",
       "      <td>No problem</td>\n",
       "      <td>MA</td>\n",
       "      <td>S</td>\n",
       "      <td>0</td>\n",
       "      <td>NaN</td>\n",
       "    </tr>\n",
       "    <tr>\n",
       "      <th>4</th>\n",
       "      <td>6548</td>\n",
       "      <td>2020-06-24</td>\n",
       "      <td>1</td>\n",
       "      <td>1</td>\n",
       "      <td>1.0</td>\n",
       "      <td>1</td>\n",
       "      <td>Primiparous</td>\n",
       "      <td>2020-06-25</td>\n",
       "      <td>1</td>\n",
       "      <td>14:00:00</td>\n",
       "      <td>...</td>\n",
       "      <td>.</td>\n",
       "      <td>.</td>\n",
       "      <td>270</td>\n",
       "      <td>0</td>\n",
       "      <td>1</td>\n",
       "      <td>No problem</td>\n",
       "      <td>FA</td>\n",
       "      <td>S</td>\n",
       "      <td>0</td>\n",
       "      <td>FRESH/ RECENT CALVING</td>\n",
       "    </tr>\n",
       "  </tbody>\n",
       "</table>\n",
       "<p>5 rows × 41 columns</p>\n",
       "</div>"
      ],
      "text/plain": [
       "     ID       FDAT  Calving Season Code  DIMatheat  DIM at Heat Code  Lact  \\\n",
       "0  5583 2020-04-12                    0         41               1.0     2   \n",
       "1  5476 2020-04-23                    0        113               3.0     2   \n",
       "2  5643 2020-07-10                    1         37               1.0     2   \n",
       "3  6415 2020-04-10                    0         78               2.0     1   \n",
       "4  6548 2020-06-24                    1          1               1.0     1   \n",
       "\n",
       "        Parity  heat_DATE  Heat Date Code                        SB_FHIACBAR  \\\n",
       "0  Multiparous 2020-05-23               0                           20:00:00   \n",
       "1  Multiparous 2020-08-14               1  NO PROGRESSIVE HIGH ACTIVITY BARS   \n",
       "2  Multiparous 2020-08-16               1  NO PROGRESSIVE HIGH ACTIVITY BARS   \n",
       "3  Primiparous 2020-06-27               1                           20:00:00   \n",
       "4  Primiparous 2020-06-25               1                           14:00:00   \n",
       "\n",
       "   ...                 CDAT DCC_IF_P  PDCC  DDRY EASE   Ease Code  \\\n",
       "0  ...                    .        .   277    48    1  No problem   \n",
       "1  ...                    .        .   277    52    1  No problem   \n",
       "2  ...                    .        .   276    61    1  No problem   \n",
       "3  ...  2020-06-27 00:00:00        0   276     0    1  No problem   \n",
       "4  ...                    .        .   270     0    1  No problem   \n",
       "\n",
       "  Calf Sex and Survival   TWIN DOA                OBSERV.  \n",
       "0             MA             S   0                  FRESH  \n",
       "1             MA         T       0                      .  \n",
       "2             MA             S   0                  FRESH  \n",
       "3             MA             S   0                    NaN  \n",
       "4             FA             S   0  FRESH/ RECENT CALVING  \n",
       "\n",
       "[5 rows x 41 columns]"
      ]
     },
     "execution_count": 69,
     "metadata": {},
     "output_type": "execute_result"
    }
   ],
   "source": [
    "df.head()"
   ]
  },
  {
   "cell_type": "markdown",
   "id": "affecting-mistress",
   "metadata": {},
   "source": [
    "# End Goal 1"
   ]
  },
  {
   "cell_type": "markdown",
   "id": "painted-workplace",
   "metadata": {},
   "source": [
    "## Based on the intensity of the heat, what is the probability that the cow conceives from her breeding?"
   ]
  },
  {
   "cell_type": "markdown",
   "id": "herbal-three",
   "metadata": {},
   "source": [
    "#### Variables selected to predict: "
   ]
  },
  {
   "attachments": {},
   "cell_type": "markdown",
   "id": "flexible-impossible",
   "metadata": {},
   "source": [
    "DIMatheat, heat_DATE, SB_HTSTARTS, SB_HTENDS, SB_PROB, BCODE, DC_ACLEV, DC_ACDAT, DC_ACTIM"
   ]
  },
  {
   "cell_type": "markdown",
   "id": "dress-composite",
   "metadata": {},
   "source": [
    "#### Predict: outcome "
   ]
  },
  {
   "cell_type": "markdown",
   "id": "instructional-asian",
   "metadata": {},
   "source": [
    "## Models "
   ]
  },
  {
   "cell_type": "markdown",
   "id": "incident-jewelry",
   "metadata": {},
   "source": [
    "Create training and testing datasets using cross validation."
   ]
  },
  {
   "cell_type": "code",
   "execution_count": 133,
   "id": "juvenile-expression",
   "metadata": {},
   "outputs": [],
   "source": [
    "df1 = df.loc[:, ['DIMatheat', 'heat_DATE', 'SB_HTSTARTS', 'SB_HTENDS', \n",
    "         'SB_PROB', 'BCODE', 'DC_ACLEV', 'DC_ACDAT', 'DC_ACTIM', 'outcome']]\n",
    "df1 = df1[df1['outcome'] != '.']\n",
    "df1 = df1[df1['outcome'] != 'SOLD']\n",
    "df1.loc[(df1['outcome'] == 'P '), 'outcome'] = 'P'\n",
    "df1.loc[(df1['outcome'] != 'P'), 'outcome'] = 'NP'"
   ]
  },
  {
   "cell_type": "code",
   "execution_count": 94,
   "id": "laughing-pittsburgh",
   "metadata": {},
   "outputs": [],
   "source": [
    "# #cross validation\n",
    "\n",
    "# #Loading the dataset\n",
    "# X = pd.DataFrame(range(0, len(df1)))\n",
    "# y = df1.iloc[:,-1]\n",
    "\n",
    "# #Implementing cross validation\n",
    "# k = 5\n",
    "# kf = KFold(n_splits=k, random_state=None)\n",
    "# model = LogisticRegression(solver= 'liblinear')\n",
    " \n",
    "# result = cross_val_score(model , X, y, cv = kf)"
   ]
  },
  {
   "cell_type": "code",
   "execution_count": 135,
   "id": "explicit-physiology",
   "metadata": {},
   "outputs": [],
   "source": [
    "# bootstrap sampling\n",
    "training_df = df1.sample(n = round(len(df1)/2))\n",
    "testing_data = df1.sample(n = round(len(df1)/2))"
   ]
  },
  {
   "cell_type": "code",
   "execution_count": 144,
   "id": "strange-services",
   "metadata": {},
   "outputs": [],
   "source": [
    "X_train = training_df.iloc[:,:-1]\n",
    "y_train = training_df.iloc[:,-1]"
   ]
  },
  {
   "cell_type": "code",
   "execution_count": 151,
   "id": "suburban-earthquake",
   "metadata": {},
   "outputs": [
    {
     "data": {
      "text/plain": [
       "SVC(kernel='linear')"
      ]
     },
     "execution_count": 151,
     "metadata": {},
     "output_type": "execute_result"
    }
   ],
   "source": [
    "clf = SVC(kernel='linear') \n",
    "clf.fit(X_train[[0]], y_train)"
   ]
  },
  {
   "cell_type": "code",
   "execution_count": 156,
   "id": "optical-house",
   "metadata": {},
   "outputs": [
    {
     "ename": "ValueError",
     "evalue": "X.shape[1] = 2 should be equal to 1, the number of features at training time",
     "output_type": "error",
     "traceback": [
      "\u001b[0;31m---------------------------------------------------------------------------\u001b[0m",
      "\u001b[0;31mValueError\u001b[0m                                Traceback (most recent call last)",
      "\u001b[0;32m<ipython-input-156-25166c1ee8b1>\u001b[0m in \u001b[0;36m<module>\u001b[0;34m\u001b[0m\n\u001b[0;32m----> 1\u001b[0;31m \u001b[0mclf\u001b[0m\u001b[0;34m.\u001b[0m\u001b[0mpredict\u001b[0m\u001b[0;34m(\u001b[0m\u001b[0;34m[\u001b[0m\u001b[0;34m[\u001b[0m\u001b[0;36m1\u001b[0m\u001b[0;34m,\u001b[0m\u001b[0;36m2\u001b[0m\u001b[0;34m]\u001b[0m\u001b[0;34m]\u001b[0m\u001b[0;34m)\u001b[0m\u001b[0;34m\u001b[0m\u001b[0;34m\u001b[0m\u001b[0m\n\u001b[0m",
      "\u001b[0;32m/Library/Frameworks/Python.framework/Versions/3.7/lib/python3.7/site-packages/sklearn/svm/_base.py\u001b[0m in \u001b[0;36mpredict\u001b[0;34m(self, X)\u001b[0m\n\u001b[1;32m    622\u001b[0m             \u001b[0my\u001b[0m \u001b[0;34m=\u001b[0m \u001b[0mnp\u001b[0m\u001b[0;34m.\u001b[0m\u001b[0margmax\u001b[0m\u001b[0;34m(\u001b[0m\u001b[0mself\u001b[0m\u001b[0;34m.\u001b[0m\u001b[0mdecision_function\u001b[0m\u001b[0;34m(\u001b[0m\u001b[0mX\u001b[0m\u001b[0;34m)\u001b[0m\u001b[0;34m,\u001b[0m \u001b[0maxis\u001b[0m\u001b[0;34m=\u001b[0m\u001b[0;36m1\u001b[0m\u001b[0;34m)\u001b[0m\u001b[0;34m\u001b[0m\u001b[0;34m\u001b[0m\u001b[0m\n\u001b[1;32m    623\u001b[0m         \u001b[0;32melse\u001b[0m\u001b[0;34m:\u001b[0m\u001b[0;34m\u001b[0m\u001b[0;34m\u001b[0m\u001b[0m\n\u001b[0;32m--> 624\u001b[0;31m             \u001b[0my\u001b[0m \u001b[0;34m=\u001b[0m \u001b[0msuper\u001b[0m\u001b[0;34m(\u001b[0m\u001b[0;34m)\u001b[0m\u001b[0;34m.\u001b[0m\u001b[0mpredict\u001b[0m\u001b[0;34m(\u001b[0m\u001b[0mX\u001b[0m\u001b[0;34m)\u001b[0m\u001b[0;34m\u001b[0m\u001b[0;34m\u001b[0m\u001b[0m\n\u001b[0m\u001b[1;32m    625\u001b[0m         \u001b[0;32mreturn\u001b[0m \u001b[0mself\u001b[0m\u001b[0;34m.\u001b[0m\u001b[0mclasses_\u001b[0m\u001b[0;34m.\u001b[0m\u001b[0mtake\u001b[0m\u001b[0;34m(\u001b[0m\u001b[0mnp\u001b[0m\u001b[0;34m.\u001b[0m\u001b[0masarray\u001b[0m\u001b[0;34m(\u001b[0m\u001b[0my\u001b[0m\u001b[0;34m,\u001b[0m \u001b[0mdtype\u001b[0m\u001b[0;34m=\u001b[0m\u001b[0mnp\u001b[0m\u001b[0;34m.\u001b[0m\u001b[0mintp\u001b[0m\u001b[0;34m)\u001b[0m\u001b[0;34m)\u001b[0m\u001b[0;34m\u001b[0m\u001b[0;34m\u001b[0m\u001b[0m\n\u001b[1;32m    626\u001b[0m \u001b[0;34m\u001b[0m\u001b[0m\n",
      "\u001b[0;32m/Library/Frameworks/Python.framework/Versions/3.7/lib/python3.7/site-packages/sklearn/svm/_base.py\u001b[0m in \u001b[0;36mpredict\u001b[0;34m(self, X)\u001b[0m\n\u001b[1;32m    340\u001b[0m         \u001b[0my_pred\u001b[0m \u001b[0;34m:\u001b[0m \u001b[0mndarray\u001b[0m \u001b[0mof\u001b[0m \u001b[0mshape\u001b[0m \u001b[0;34m(\u001b[0m\u001b[0mn_samples\u001b[0m\u001b[0;34m,\u001b[0m\u001b[0;34m)\u001b[0m\u001b[0;34m\u001b[0m\u001b[0;34m\u001b[0m\u001b[0m\n\u001b[1;32m    341\u001b[0m         \"\"\"\n\u001b[0;32m--> 342\u001b[0;31m         \u001b[0mX\u001b[0m \u001b[0;34m=\u001b[0m \u001b[0mself\u001b[0m\u001b[0;34m.\u001b[0m\u001b[0m_validate_for_predict\u001b[0m\u001b[0;34m(\u001b[0m\u001b[0mX\u001b[0m\u001b[0;34m)\u001b[0m\u001b[0;34m\u001b[0m\u001b[0;34m\u001b[0m\u001b[0m\n\u001b[0m\u001b[1;32m    343\u001b[0m         \u001b[0mpredict\u001b[0m \u001b[0;34m=\u001b[0m \u001b[0mself\u001b[0m\u001b[0;34m.\u001b[0m\u001b[0m_sparse_predict\u001b[0m \u001b[0;32mif\u001b[0m \u001b[0mself\u001b[0m\u001b[0;34m.\u001b[0m\u001b[0m_sparse\u001b[0m \u001b[0;32melse\u001b[0m \u001b[0mself\u001b[0m\u001b[0;34m.\u001b[0m\u001b[0m_dense_predict\u001b[0m\u001b[0;34m\u001b[0m\u001b[0;34m\u001b[0m\u001b[0m\n\u001b[1;32m    344\u001b[0m         \u001b[0;32mreturn\u001b[0m \u001b[0mpredict\u001b[0m\u001b[0;34m(\u001b[0m\u001b[0mX\u001b[0m\u001b[0;34m)\u001b[0m\u001b[0;34m\u001b[0m\u001b[0;34m\u001b[0m\u001b[0m\n",
      "\u001b[0;32m/Library/Frameworks/Python.framework/Versions/3.7/lib/python3.7/site-packages/sklearn/svm/_base.py\u001b[0m in \u001b[0;36m_validate_for_predict\u001b[0;34m(self, X)\u001b[0m\n\u001b[1;32m    493\u001b[0m             raise ValueError(\"X.shape[1] = %d should be equal to %d, \"\n\u001b[1;32m    494\u001b[0m                              \u001b[0;34m\"the number of features at training time\"\u001b[0m \u001b[0;34m%\u001b[0m\u001b[0;34m\u001b[0m\u001b[0;34m\u001b[0m\u001b[0m\n\u001b[0;32m--> 495\u001b[0;31m                              (X.shape[1], self.shape_fit_[1]))\n\u001b[0m\u001b[1;32m    496\u001b[0m         \u001b[0;32mreturn\u001b[0m \u001b[0mX\u001b[0m\u001b[0;34m\u001b[0m\u001b[0;34m\u001b[0m\u001b[0m\n\u001b[1;32m    497\u001b[0m \u001b[0;34m\u001b[0m\u001b[0m\n",
      "\u001b[0;31mValueError\u001b[0m: X.shape[1] = 2 should be equal to 1, the number of features at training time"
     ]
    }
   ],
   "source": [
    "clf.predict([[1,2]])"
   ]
  },
  {
   "cell_type": "markdown",
   "id": "cloudy-engagement",
   "metadata": {},
   "source": [
    "# End Goal 2"
   ]
  },
  {
   "cell_type": "markdown",
   "id": "south-vegetation",
   "metadata": {},
   "source": [
    "## Based on the start of the activity, what is the best time to breed this cow?"
   ]
  },
  {
   "cell_type": "code",
   "execution_count": null,
   "id": "upset-truck",
   "metadata": {},
   "outputs": [],
   "source": []
  }
 ],
 "metadata": {
  "kernelspec": {
   "display_name": "Python 3",
   "language": "python",
   "name": "python3"
  },
  "language_info": {
   "codemirror_mode": {
    "name": "ipython",
    "version": 3
   },
   "file_extension": ".py",
   "mimetype": "text/x-python",
   "name": "python",
   "nbconvert_exporter": "python",
   "pygments_lexer": "ipython3",
   "version": "3.7.6"
  }
 },
 "nbformat": 4,
 "nbformat_minor": 5
}
